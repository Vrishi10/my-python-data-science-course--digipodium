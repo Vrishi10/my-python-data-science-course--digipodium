{
 "cells": [
  {
   "cell_type": "markdown",
   "metadata": {},
   "source": [
    "Dictionary"
   ]
  },
  {
   "cell_type": "code",
   "execution_count": 1,
   "metadata": {},
   "outputs": [],
   "source": [
    "x = [1,2,3,4]\n",
    "\n"
   ]
  },
  {
   "cell_type": "code",
   "execution_count": 2,
   "metadata": {},
   "outputs": [],
   "source": [
    "emp = ['amar','deep','finance',2000,2300,10000,True,False,'acme']\n"
   ]
  },
  {
   "cell_type": "code",
   "execution_count": 3,
   "metadata": {},
   "outputs": [],
   "source": [
    "# to make the aabove information more accurate and precise we use dictionary\n",
    "emp_dict = {'fname':'Amar',\n",
    "            'lname':'deep',\n",
    "            'dept':'finance',\n",
    "            'age':31,\n",
    "            'salary':10000,\n",
    "            'bonus':30000,\n",
    "            'is_manager' :True,\n",
    "            'is_executive':False,\n",
    "            'company':'Acme'}"
   ]
  },
  {
   "cell_type": "code",
   "execution_count": 4,
   "metadata": {},
   "outputs": [
    {
     "name": "stdout",
     "output_type": "stream",
     "text": [
      "{'fname': 'Amar', 'lname': 'deep', 'dept': 'finance', 'age': 31, 'salary': 10000, 'bonus': 30000, 'is_manager': True, 'is_executive': False, 'company': 'Acme'}\n"
     ]
    }
   ],
   "source": [
    "print(emp_dict)"
   ]
  },
  {
   "cell_type": "code",
   "execution_count": 5,
   "metadata": {},
   "outputs": [],
   "source": [
    "# complex data\n",
    "\n",
    "weather_data = {\n",
    "                'date' : '2022-01-01',\n",
    "                'temp'  : 32,\n",
    "                'details': { 'humidity': 80,\n",
    "                             'wind': 10,\n",
    "                             'pressure': 30,\n",
    "                             'aqi': 120 },\n",
    "\n",
    "'city' : 'Lucknow',\n",
    "'type' : 'sunshine',\n",
    "'icon' : '🌞'\n",
    "}"
   ]
  },
  {
   "cell_type": "code",
   "execution_count": 6,
   "metadata": {},
   "outputs": [
    {
     "name": "stdout",
     "output_type": "stream",
     "text": [
      "{'date': '2022-01-01', 'temp': 32, 'details': {'humidity': 80, 'wind': 10, 'pressure': 30, 'aqi': 120}, 'city': 'Lucknow', 'type': 'sunshine', 'icon': '🌞'}\n"
     ]
    }
   ],
   "source": [
    "print(weather_data)"
   ]
  },
  {
   "cell_type": "code",
   "execution_count": 7,
   "metadata": {},
   "outputs": [
    {
     "data": {
      "text/plain": [
       "dict_keys(['date', 'temp', 'details', 'city', 'type', 'icon'])"
      ]
     },
     "execution_count": 7,
     "metadata": {},
     "output_type": "execute_result"
    }
   ],
   "source": [
    "weather_data.keys()"
   ]
  },
  {
   "cell_type": "code",
   "execution_count": 8,
   "metadata": {},
   "outputs": [
    {
     "data": {
      "text/plain": [
       "['date', 'temp', 'details', 'city', 'type', 'icon']"
      ]
     },
     "execution_count": 8,
     "metadata": {},
     "output_type": "execute_result"
    }
   ],
   "source": [
    "list(weather_data.keys())"
   ]
  },
  {
   "cell_type": "code",
   "execution_count": 9,
   "metadata": {},
   "outputs": [
    {
     "data": {
      "text/plain": [
       "dict_values(['2022-01-01', 32, {'humidity': 80, 'wind': 10, 'pressure': 30, 'aqi': 120}, 'Lucknow', 'sunshine', '🌞'])"
      ]
     },
     "execution_count": 9,
     "metadata": {},
     "output_type": "execute_result"
    }
   ],
   "source": [
    "weather_data.values()"
   ]
  },
  {
   "cell_type": "code",
   "execution_count": 10,
   "metadata": {},
   "outputs": [
    {
     "data": {
      "text/plain": [
       "dict_keys(['fname', 'lname', 'dept', 'age', 'salary', 'bonus', 'is_manager', 'is_executive', 'company'])"
      ]
     },
     "execution_count": 10,
     "metadata": {},
     "output_type": "execute_result"
    }
   ],
   "source": [
    "emp_dict.keys()"
   ]
  },
  {
   "cell_type": "code",
   "execution_count": 11,
   "metadata": {},
   "outputs": [
    {
     "data": {
      "text/plain": [
       "{'humidity': 80, 'wind': 10, 'pressure': 30, 'aqi': 120}"
      ]
     },
     "execution_count": 11,
     "metadata": {},
     "output_type": "execute_result"
    }
   ],
   "source": [
    "weather_data['details']"
   ]
  },
  {
   "cell_type": "code",
   "execution_count": 12,
   "metadata": {},
   "outputs": [
    {
     "ename": "KeyError",
     "evalue": "'location'",
     "output_type": "error",
     "traceback": [
      "\u001b[1;31m---------------------------------------------------------------------------\u001b[0m",
      "\u001b[1;31mKeyError\u001b[0m                                  Traceback (most recent call last)",
      "Cell \u001b[1;32mIn [12], line 1\u001b[0m\n\u001b[1;32m----> 1\u001b[0m weather_data[\u001b[39m'\u001b[39;49m\u001b[39mlocation\u001b[39;49m\u001b[39m'\u001b[39;49m]\n",
      "\u001b[1;31mKeyError\u001b[0m: 'location'"
     ]
    }
   ],
   "source": [
    "weather_data['location']         #key error in case of absence of the key value"
   ]
  },
  {
   "cell_type": "code",
   "execution_count": null,
   "metadata": {},
   "outputs": [
    {
     "data": {
      "text/plain": [
       "32"
      ]
     },
     "execution_count": 28,
     "metadata": {},
     "output_type": "execute_result"
    }
   ],
   "source": [
    "weather_data.get('temp')"
   ]
  },
  {
   "cell_type": "code",
   "execution_count": null,
   "metadata": {},
   "outputs": [
    {
     "ename": "NameError",
     "evalue": "name 'wether_data' is not defined",
     "output_type": "error",
     "traceback": [
      "\u001b[1;31m---------------------------------------------------------------------------\u001b[0m",
      "\u001b[1;31mNameError\u001b[0m                                 Traceback (most recent call last)",
      "Cell \u001b[1;32mIn [29], line 1\u001b[0m\n\u001b[1;32m----> 1\u001b[0m wether_data\u001b[39m.\u001b[39mget(\u001b[39m'\u001b[39m\u001b[39mlocation\u001b[39m\u001b[39m'\u001b[39m)\n",
      "\u001b[1;31mNameError\u001b[0m: name 'wether_data' is not defined"
     ]
    }
   ],
   "source": [
    "wether_data.get('location')"
   ]
  },
  {
   "cell_type": "code",
   "execution_count": null,
   "metadata": {},
   "outputs": [
    {
     "data": {
      "text/plain": [
       "'Lucknow'"
      ]
     },
     "execution_count": 30,
     "metadata": {},
     "output_type": "execute_result"
    }
   ],
   "source": [
    "weather_data.get('city','not found')"
   ]
  },
  {
   "cell_type": "code",
   "execution_count": null,
   "metadata": {},
   "outputs": [
    {
     "data": {
      "text/plain": [
       "'not found'"
      ]
     },
     "execution_count": 31,
     "metadata": {},
     "output_type": "execute_result"
    }
   ],
   "source": [
    "weather_data.get('location','not found')"
   ]
  },
  {
   "cell_type": "code",
   "execution_count": null,
   "metadata": {},
   "outputs": [],
   "source": [
    "# looping over a dictionary"
   ]
  },
  {
   "cell_type": "code",
   "execution_count": null,
   "metadata": {},
   "outputs": [
    {
     "name": "stdout",
     "output_type": "stream",
     "text": [
      "fname\n",
      "lname\n",
      "dept\n",
      "age\n",
      "salary\n",
      "bonus\n",
      "is_manager\n",
      "is_executive\n",
      "company\n"
     ]
    }
   ],
   "source": [
    "for k in emp_dict:\n",
    "    print(k)\n"
   ]
  },
  {
   "cell_type": "code",
   "execution_count": null,
   "metadata": {},
   "outputs": [
    {
     "name": "stdout",
     "output_type": "stream",
     "text": [
      "fname = Amar\n",
      "lname = deep\n",
      "dept = finance\n",
      "age = 31\n",
      "salary = 10000\n",
      "bonus = 30000\n",
      "is_manager = True\n",
      "is_executive = False\n",
      "company = Acme\n"
     ]
    }
   ],
   "source": [
    "for k in emp_dict:\n",
    "    print(k,'=',emp_dict[k])"
   ]
  },
  {
   "cell_type": "code",
   "execution_count": null,
   "metadata": {},
   "outputs": [],
   "source": [
    "# looping over a dictionary using items()"
   ]
  },
  {
   "cell_type": "code",
   "execution_count": null,
   "metadata": {},
   "outputs": [
    {
     "name": "stdout",
     "output_type": "stream",
     "text": [
      "fname =>,v\n",
      "lname =>,v\n",
      "dept =>,v\n",
      "age =>,v\n",
      "salary =>,v\n",
      "bonus =>,v\n",
      "is_manager =>,v\n",
      "is_executive =>,v\n",
      "company =>,v\n"
     ]
    }
   ],
   "source": [
    "for k , v in emp_dict.items():\n",
    "    print(k,'=>,v')"
   ]
  },
  {
   "cell_type": "code",
   "execution_count": null,
   "metadata": {},
   "outputs": [],
   "source": [
    "# updating an entry in dictionary"
   ]
  },
  {
   "cell_type": "code",
   "execution_count": null,
   "metadata": {},
   "outputs": [
    {
     "data": {
      "text/plain": [
       "dict_items([('fname', 'Amar'), ('lname', 'deep'), ('dept', 'finance'), ('age', 31), ('salary', 10000), ('bonus', 30000), ('is_manager', True), ('is_executive', False), ('company', 'Acme')])"
      ]
     },
     "execution_count": 43,
     "metadata": {},
     "output_type": "execute_result"
    }
   ],
   "source": [
    "emp_dict.items()"
   ]
  },
  {
   "cell_type": "code",
   "execution_count": null,
   "metadata": {},
   "outputs": [],
   "source": [
    "# updating\n",
    "\n",
    "weather_data['temp'] = 35"
   ]
  },
  {
   "cell_type": "code",
   "execution_count": null,
   "metadata": {},
   "outputs": [
    {
     "data": {
      "text/plain": [
       "{'date': '2022-01-01',\n",
       " 'temp': 35,\n",
       " 'details': {'humidity': 80, 'wind': 10, 'pressure': 30, 'aqi': 120},\n",
       " 'city': 'Lucknow',\n",
       " 'type': 'sunshine',\n",
       " 'icon': '🌞'}"
      ]
     },
     "execution_count": 45,
     "metadata": {},
     "output_type": "execute_result"
    }
   ],
   "source": [
    "weather_data"
   ]
  },
  {
   "cell_type": "code",
   "execution_count": 14,
   "metadata": {},
   "outputs": [
    {
     "name": "stdout",
     "output_type": "stream",
     "text": [
      "{'fname': 'Amar', 'lname': 'deep', 'dept': 'finance', 'age': 31, 'salary': 10000, 'bonus': 30000, 'is_manager': True, 'is_executive': False, 'company': 'Acme', 'designation': 'Asst A'}\n"
     ]
    }
   ],
   "source": [
    "# adding data\n",
    "\n",
    "emp_dict['designation'] = 'Asst A'\n",
    "print(emp_dict)"
   ]
  },
  {
   "cell_type": "code",
   "execution_count": 16,
   "metadata": {},
   "outputs": [
    {
     "name": "stdout",
     "output_type": "stream",
     "text": [
      "{'fname': 'Amar', 'lname': 'deep', 'dept': 'finance', 'age': 31, 'salary': 3000, 'bonus': 30000, 'is_manager': True, 'is_executive': False, 'company': 'Acme', 'designation': 'Section Manager'}\n",
      "{'fname': 'Amar', 'lname': 'deep', 'dept': 'finance', 'age': 31, 'salary': 30000, 'bonus': 30000, 'is_manager': True, 'is_executive': False, 'company': 'Acme', 'designation': 'Section Manager'}\n"
     ]
    }
   ],
   "source": [
    "# updating data\n",
    "\n",
    "emp_dict['designation'] = 'Section Manager'\n",
    "print(emp_dict)\n",
    "emp_dict['salary'] = 30000\n",
    "print(emp_dict)"
   ]
  },
  {
   "cell_type": "code",
   "execution_count": 21,
   "metadata": {},
   "outputs": [],
   "source": [
    "# data removal/ value removal\n",
    "\n",
    "if 'is_executive' in emp_dict:\n",
    "    emp_dict.pop('is_executive')     "
   ]
  },
  {
   "cell_type": "code",
   "execution_count": 18,
   "metadata": {},
   "outputs": [
    {
     "data": {
      "text/plain": [
       "{'fname': 'Amar',\n",
       " 'lname': 'deep',\n",
       " 'dept': 'finance',\n",
       " 'age': 31,\n",
       " 'salary': 30000,\n",
       " 'bonus': 30000,\n",
       " 'is_manager': True,\n",
       " 'company': 'Acme',\n",
       " 'designation': 'Section Manager'}"
      ]
     },
     "execution_count": 18,
     "metadata": {},
     "output_type": "execute_result"
    }
   ],
   "source": [
    "emp_dict"
   ]
  },
  {
   "cell_type": "code",
   "execution_count": 29,
   "metadata": {},
   "outputs": [],
   "source": [
    "reports = {\n",
    "    '001': {\n",
    "        'name' : 'Amar',\n",
    "        'subjects' : {'English':80 , 'Maths':90 , 'Science':95}\n",
    "    },\n",
    "    '002' : {\n",
    "        'name' : 'Vijay',\n",
    "        'subjects' : {'English':70 , 'Maths':60 , 'Science':85}\n",
    "    },\n",
    "    '003' : {\n",
    "        'name' : 'Raj',\n",
    "        'subjects' : {'English':60 , 'Maths':90 , 'Science':45}\n",
    "    },\n",
    "}"
   ]
  },
  {
   "cell_type": "code",
   "execution_count": 23,
   "metadata": {},
   "outputs": [
    {
     "data": {
      "text/plain": [
       "{'001': {'name': 'Amar',\n",
       "  'subjects': {'English': 80, 'Maths': 90, 'Science': 95}},\n",
       " '002': {'name': 'Vijay',\n",
       "  'subjects': {'English': 70, 'Maths': 60, 'Science': 85}},\n",
       " '003': {'namme': 'Raj',\n",
       "  'subjects': {'English': 60, 'Maths': 90, 'Science': 45}}}"
      ]
     },
     "execution_count": 23,
     "metadata": {},
     "output_type": "execute_result"
    }
   ],
   "source": [
    "reports"
   ]
  },
  {
   "cell_type": "code",
   "execution_count": 28,
   "metadata": {},
   "outputs": [
    {
     "name": "stdout",
     "output_type": "stream",
     "text": [
      "001\n",
      "name\n",
      "name Amar\n",
      "--------------------\n",
      "subjects\n",
      "English 80\n",
      "Maths 90\n",
      "Science 95\n",
      "--------------------\n",
      "002\n",
      "name\n",
      "name Vijay\n",
      "--------------------\n",
      "subjects\n",
      "English 70\n",
      "Maths 60\n",
      "Science 85\n",
      "--------------------\n",
      "003\n",
      "namme\n",
      "namme Raj\n",
      "--------------------\n",
      "subjects\n",
      "English 60\n",
      "Maths 90\n",
      "Science 45\n",
      "--------------------\n"
     ]
    }
   ],
   "source": [
    "for roll , data in reports.items():     #to take out the values from items and keep it in roll and data.\n",
    "    print(roll)\n",
    "    for key, val in data.items():\n",
    "        print(key)\n",
    "        if isinstance(val,dict):       #checks the data type\n",
    "            for sub,marks in val.items():\n",
    "                print(sub,marks)\n",
    "        else:\n",
    "            print(key ,val)\n",
    "        print('--'*10)\n"
   ]
  },
  {
   "cell_type": "code",
   "execution_count": 32,
   "metadata": {},
   "outputs": [
    {
     "name": "stdout",
     "output_type": "stream",
     "text": [
      "001\n",
      "name\n",
      "name Amar\n",
      "--------------------\n",
      "subjects\n",
      "English 80\n",
      "Maths 90\n",
      "Science 95\n",
      "total:265/300\n",
      "--------------------\n",
      "002\n",
      "name\n",
      "name Vijay\n",
      "--------------------\n",
      "subjects\n",
      "English 70\n",
      "Maths 60\n",
      "Science 85\n",
      "total:215/300\n",
      "--------------------\n",
      "003\n",
      "name\n",
      "name Raj\n",
      "--------------------\n",
      "subjects\n",
      "English 60\n",
      "Maths 90\n",
      "Science 45\n",
      "total:195/300\n",
      "--------------------\n"
     ]
    }
   ],
   "source": [
    "# for total marks:\n",
    "\n",
    "for roll , data in reports.items():    \n",
    "    print(roll)\n",
    "    for key, val in data.items():\n",
    "        print(key)\n",
    "        total = 0                        # before loop set toatl marks to 0\n",
    "        if isinstance(val,dict):       \n",
    "            for sub,marks in val.items():\n",
    "                print(sub,marks)\n",
    "                total= total + marks      # add marks\n",
    "            print(f'total:{total}/300')   # display\n",
    "        else:\n",
    "            print(key ,val)\n",
    "        print('--'*10)"
   ]
  },
  {
   "cell_type": "code",
   "execution_count": 33,
   "metadata": {},
   "outputs": [
    {
     "name": "stdout",
     "output_type": "stream",
     "text": [
      "001\n",
      "name\n",
      "name Amar\n",
      "--------------------\n",
      "subjects\n",
      "English 80\n",
      "Maths 90\n",
      "Science 95\n",
      "total:265/300\n",
      "Prct: 88.33%\n",
      "--------------------\n",
      "002\n",
      "name\n",
      "name Vijay\n",
      "--------------------\n",
      "subjects\n",
      "English 70\n",
      "Maths 60\n",
      "Science 85\n",
      "total:215/300\n",
      "Prct: 71.67%\n",
      "--------------------\n",
      "003\n",
      "name\n",
      "name Raj\n",
      "--------------------\n",
      "subjects\n",
      "English 60\n",
      "Maths 90\n",
      "Science 45\n",
      "total:195/300\n",
      "Prct: 65.00%\n",
      "--------------------\n"
     ]
    }
   ],
   "source": [
    "# for average marks calculation\n",
    "\n",
    "for roll , data in reports.items():    \n",
    "    print(roll)\n",
    "    for key, val in data.items():\n",
    "        print(key)\n",
    "        total = 0                        # before loop set toatl marks to 0\n",
    "        if isinstance(val,dict):       \n",
    "            for sub,marks in val.items():\n",
    "                print(sub,marks)\n",
    "                total= total + marks      # add marks\n",
    "            print(f'total:{total}/300')    # disply\n",
    "            print(f'Prct: {total/300*100:.2f}%')   # display\n",
    "        else:\n",
    "            print(key ,val)\n",
    "        print('--'*10)"
   ]
  },
  {
   "cell_type": "markdown",
   "metadata": {},
   "source": [
    "File Handling\n",
    "    - open a file\n",
    "    - reading a file\n",
    "    - writing a file\n",
    "    - appeding a file"
   ]
  },
  {
   "cell_type": "code",
   "execution_count": 35,
   "metadata": {},
   "outputs": [
    {
     "ename": "FileNotFoundError",
     "evalue": "[Errno 2] No such file or directory: 'hello.py'",
     "output_type": "error",
     "traceback": [
      "\u001b[1;31m---------------------------------------------------------------------------\u001b[0m",
      "\u001b[1;31mFileNotFoundError\u001b[0m                         Traceback (most recent call last)",
      "Cell \u001b[1;32mIn [35], line 1\u001b[0m\n\u001b[1;32m----> 1\u001b[0m f \u001b[39m=\u001b[39m \u001b[39mopen\u001b[39;49m(\u001b[39m'\u001b[39;49m\u001b[39mhello.py\u001b[39;49m\u001b[39m'\u001b[39;49m)\n\u001b[0;32m      2\u001b[0m \u001b[39mprint\u001b[39m(f)\n",
      "\u001b[1;31mFileNotFoundError\u001b[0m: [Errno 2] No such file or directory: 'hello.py'"
     ]
    }
   ],
   "source": [
    "f = open('hello.py')             #when file is not present\n",
    "print(f)"
   ]
  },
  {
   "cell_type": "code",
   "execution_count": 37,
   "metadata": {},
   "outputs": [
    {
     "name": "stdout",
     "output_type": "stream",
     "text": [
      "name=input(\"enter your name\")\n",
      "print('welcome',name)\n",
      "amount=input(\"how much tea will you take\")\n",
      "print(\"why would you want\",amount,'tea?')\n",
      "\n"
     ]
    }
   ],
   "source": [
    "f = open('example.py')\n",
    "print(f.read())"
   ]
  },
  {
   "cell_type": "code",
   "execution_count": 46,
   "metadata": {},
   "outputs": [
    {
     "name": "stdout",
     "output_type": "stream",
     "text": [
      "hi there i am using whatsapp\n"
     ]
    }
   ],
   "source": [
    "f = open(r'C:\\Users\\vrish\\OneDrive\\Desktop\\fff\\vrk.txt')\n",
    "print(f.read())\n"
   ]
  },
  {
   "cell_type": "code",
   "execution_count": 48,
   "metadata": {},
   "outputs": [
    {
     "name": "stdout",
     "output_type": "stream",
     "text": [
      "hi there i am using whatsapp\n",
      "0characters\n"
     ]
    }
   ],
   "source": [
    "f = open(r'C:\\Users\\vrish\\OneDrive\\Desktop\\fff\\vrk.txt')\n",
    "print(f.read())\n",
    "content = f.read()\n",
    "print(f'{len(content)}characters')"
   ]
  },
  {
   "cell_type": "code",
   "execution_count": 51,
   "metadata": {},
   "outputs": [],
   "source": [
    "data = 'hi everyone,this is a sample file'     #adding new file using data as per in this file.\n",
    "with open('my data.txt', 'w') as file:         # new file gets created, if previously exists it overwrites it.\n",
    "    file.write(data)"
   ]
  },
  {
   "cell_type": "code",
   "execution_count": 52,
   "metadata": {},
   "outputs": [],
   "source": [
    "#not to be used way of the above shown way as if we dont want to clise the file the data will not be saved\n",
    "#  file.open('mydata.txt','w')\n",
    "# file.write(data)\n",
    "# file.close()"
   ]
  },
  {
   "cell_type": "code",
   "execution_count": 55,
   "metadata": {},
   "outputs": [],
   "source": [
    "# appending the data in a file\n",
    "\n",
    "data = '\\n this is the new data this is going to be written'\n",
    "with open('mydata.txt', 'a') as file:     #write another data in the file\n",
    "    file.write(data)"
   ]
  },
  {
   "cell_type": "code",
   "execution_count": 57,
   "metadata": {},
   "outputs": [
    {
     "name": "stdout",
     "output_type": "stream",
     "text": [
      "Filebio.txt saved\n"
     ]
    }
   ],
   "source": [
    "file = 'bio.txt'                    #new file creating with texts \n",
    "content = ''\n",
    "\n",
    "while True:\n",
    "    line = input('Enter a line(or q to quit):')\n",
    "    if line == 'q':\n",
    "        break\n",
    "    content += line + '\\n'\n",
    "\n",
    "with open(file, 'w') as f:\n",
    "    f.write(content)\n",
    "    print(f'File{file} saved')"
   ]
  },
  {
   "cell_type": "code",
   "execution_count": null,
   "metadata": {},
   "outputs": [],
   "source": []
  },
  {
   "cell_type": "code",
   "execution_count": null,
   "metadata": {},
   "outputs": [],
   "source": []
  }
 ],
 "metadata": {
  "kernelspec": {
   "display_name": "Python 3.9.12 ('base')",
   "language": "python",
   "name": "python3"
  },
  "language_info": {
   "codemirror_mode": {
    "name": "ipython",
    "version": 3
   },
   "file_extension": ".py",
   "mimetype": "text/x-python",
   "name": "python",
   "nbconvert_exporter": "python",
   "pygments_lexer": "ipython3",
   "version": "3.9.12"
  },
  "orig_nbformat": 4,
  "vscode": {
   "interpreter": {
    "hash": "17484fc68b5ab907287872b52951a701d041c282f8a0dc5551218318c5940baf"
   }
  }
 },
 "nbformat": 4,
 "nbformat_minor": 2
}
