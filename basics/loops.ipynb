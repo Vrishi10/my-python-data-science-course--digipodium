{
 "cells": [
  {
   "cell_type": "markdown",
   "metadata": {},
   "source": [
    "loops"
   ]
  },
  {
   "cell_type": "markdown",
   "metadata": {},
   "source": [
    "range(10)       | 0-9\n",
    "range(5,10)     | 5-9\n",
    "range(1,10,2)   | 1,3,5,7,9\n",
    "range(10,0,-1)  |10, 9, 8,, 7, 6, 5, 4, 3, 2, 1"
   ]
  },
  {
   "cell_type": "code",
   "execution_count": 1,
   "metadata": {},
   "outputs": [
    {
     "name": "stdout",
     "output_type": "stream",
     "text": [
      "16111621263136414651566166717681869196"
     ]
    }
   ],
   "source": [
    "for i in range(1, 100, 5):\n",
    "    print(i, end='')"
   ]
  },
  {
   "cell_type": "code",
   "execution_count": 2,
   "metadata": {},
   "outputs": [
    {
     "name": "stdout",
     "output_type": "stream",
     "text": [
      "10 9 8 7 6 5 4 3 2 1 "
     ]
    }
   ],
   "source": [
    "# reverse loop\n",
    "for i in range(10, 0, -1):\n",
    "    print(i, end=' ')"
   ]
  },
  {
   "cell_type": "code",
   "execution_count": 3,
   "metadata": {},
   "outputs": [
    {
     "name": "stdout",
     "output_type": "stream",
     "text": [
      "potato\n",
      "tomato\n",
      "onnion\n",
      "cabbage\n",
      "carrot\n"
     ]
    }
   ],
   "source": [
    "veg= ['potato', 'tomato', 'onnion', 'cabbage', 'carrot']\n",
    "for item in veg:\n",
    "    print(item)"
   ]
  },
  {
   "cell_type": "code",
   "execution_count": 4,
   "metadata": {},
   "outputs": [
    {
     "name": "stdout",
     "output_type": "stream",
     "text": [
      "(0, 'potato')\n",
      "(1, 'tomato')\n",
      "(2, 'onnion')\n",
      "(3, 'cabbage')\n",
      "(4, 'carrot')\n"
     ]
    }
   ],
   "source": [
    "#index and value both\n",
    "for item in enumerate(veg):\n",
    "    print(item)"
   ]
  },
  {
   "cell_type": "markdown",
   "metadata": {},
   "source": [
    "correct version of enumerate"
   ]
  },
  {
   "cell_type": "code",
   "execution_count": 5,
   "metadata": {},
   "outputs": [
    {
     "name": "stdout",
     "output_type": "stream",
     "text": [
      "0 got potato\n",
      "1 got tomato\n",
      "2 got onnion\n",
      "3 got cabbage\n",
      "4 got carrot\n"
     ]
    }
   ],
   "source": [
    "for index, value in enumerate(veg):\n",
    "    print(index, 'got', value)"
   ]
  },
  {
   "cell_type": "markdown",
   "metadata": {},
   "source": [
    "zip()"
   ]
  },
  {
   "cell_type": "code",
   "execution_count": 6,
   "metadata": {},
   "outputs": [],
   "source": [
    "veg= ['potato', 'tomato', 'onnion', 'cabbage', 'carrot']\n",
    "prices = [35, 80, 30, 15, 30]"
   ]
  },
  {
   "cell_type": "code",
   "execution_count": 7,
   "metadata": {},
   "outputs": [
    {
     "name": "stdout",
     "output_type": "stream",
     "text": [
      "potato ----- 35\n",
      "tomato ----- 80\n",
      "onnion ----- 30\n",
      "cabbage ----- 15\n",
      "carrot ----- 30\n"
     ]
    }
   ],
   "source": [
    "for i in range(5):\n",
    "    print(f'{veg[i]} ----- {prices[i]}')"
   ]
  },
  {
   "cell_type": "code",
   "execution_count": 8,
   "metadata": {},
   "outputs": [
    {
     "name": "stdout",
     "output_type": "stream",
     "text": [
      "potato-----35\n",
      "tomato-----80\n",
      "onnion-----30\n",
      "cabbage-----15\n",
      "carrot-----30\n"
     ]
    }
   ],
   "source": [
    "# PYTHONIC WAY\n",
    "for v, p in zip(veg, prices):\n",
    "    print(f'{v}-----{p}')"
   ]
  },
  {
   "cell_type": "code",
   "execution_count": 9,
   "metadata": {},
   "outputs": [
    {
     "name": "stdout",
     "output_type": "stream",
     "text": [
      "potato-------35\n",
      "tomato-------80\n",
      "onnion-------30\n",
      "cabbage-------15\n",
      "carrot-------30\n"
     ]
    }
   ],
   "source": [
    "# non pythonic wAY\n",
    "for i in range(len(veg)):\n",
    "    print(f'{veg[i]}-------{prices[i]}')"
   ]
  },
  {
   "cell_type": "markdown",
   "metadata": {},
   "source": [
    "# WAP to print the following list using zip\n",
    "-list1 contains movie title\n",
    "-list2 contains movie rating\n",
    "-list3 conatins movie year\n",
    "-list4 contains movie director"
   ]
  },
  {
   "cell_type": "code",
   "execution_count": 15,
   "metadata": {},
   "outputs": [
    {
     "name": "stdout",
     "output_type": "stream",
     "text": [
      " ABCD2 5.5 2018 remo dsouza\n",
      " Shershaah 8.7 2022 anurag\n",
      " YJHD 7.9 2019 kholi\n",
      " Yaariyaan 7 2015 kashayap\n",
      " SOTY 7.6 2013 karan\n"
     ]
    }
   ],
   "source": [
    "movie = ['ABCD2', 'Shershaah', 'YJHD', 'Yaariyaan', 'SOTY']\n",
    "ratings = [5.5, 8.7, 7.9, 7, 7.6]\n",
    "year_of_release = [2018, 2022, 2019, 2015, 2013]\n",
    "director = ['remo dsouza', 'anurag', 'kholi', 'kashayap', 'karan']\n",
    "for m, r, y, d in zip(movie, ratings, year_of_release, director):\n",
    "    print(f' {m} {r} {y} {d}')"
   ]
  },
  {
   "cell_type": "markdown",
   "metadata": {},
   "source": [
    "nested loop"
   ]
  },
  {
   "cell_type": "code",
   "execution_count": 17,
   "metadata": {},
   "outputs": [
    {
     "name": "stdout",
     "output_type": "stream",
     "text": [
      "0123456789\n",
      "0123456789\n",
      "0123456789\n",
      "0123456789\n",
      "0123456789\n",
      "0123456789\n",
      "0123456789\n",
      "0123456789\n",
      "0123456789\n",
      "0123456789\n"
     ]
    }
   ],
   "source": [
    "for i in range(10):\n",
    "    for i in range(10):\n",
    "        print(i, end='')\n",
    "    print()"
   ]
  },
  {
   "cell_type": "markdown",
   "metadata": {},
   "source": [
    "break and continue"
   ]
  },
  {
   "cell_type": "code",
   "execution_count": 18,
   "metadata": {},
   "outputs": [
    {
     "name": "stdout",
     "output_type": "stream",
     "text": [
      "1\n",
      "2\n",
      "3\n",
      "4\n"
     ]
    }
   ],
   "source": [
    "x = [1, 2, 3, 4, 0, 0, 5]\n",
    "for i in x:\n",
    "    if i == 0:\n",
    "        break\n",
    "    print(i)"
   ]
  },
  {
   "cell_type": "markdown",
   "metadata": {},
   "source": [
    "for else"
   ]
  },
  {
   "cell_type": "code",
   "execution_count": 19,
   "metadata": {},
   "outputs": [
    {
     "name": "stdout",
     "output_type": "stream",
     "text": [
      "1\n",
      "2\n",
      "3\n",
      "4\n",
      "5\n"
     ]
    }
   ],
   "source": [
    "x = [1, 2, 3, 4, 0, 0, 5]\n",
    "for i in x:\n",
    "    if i == 0:\n",
    "        continue\n",
    "    print(i)"
   ]
  },
  {
   "cell_type": "code",
   "execution_count": 20,
   "metadata": {},
   "outputs": [
    {
     "name": "stdout",
     "output_type": "stream",
     "text": [
      "1\n",
      "2\n",
      "3\n",
      "4\n",
      "5\n"
     ]
    }
   ],
   "source": [
    "for i in x:\n",
    "    if i!=0:\n",
    "        print(i)"
   ]
  },
  {
   "cell_type": "code",
   "execution_count": 24,
   "metadata": {},
   "outputs": [
    {
     "name": "stdout",
     "output_type": "stream",
     "text": [
      "2 3 5 7 9 11 13 15 17 19 21 23 25 27 29 31 33 35 37 39 41 43 45 47 49 51 53 55 57 59 61 63 65 67 69 71 73 75 77 79 81 83 85 87 89 91 93 95 97 99 "
     ]
    }
   ],
   "source": [
    "for num in range(1, 100):\n",
    "    if num == 1:\n",
    "        continue\n",
    "    for i in range(2, num):\n",
    "        if num % 2 == 0:\n",
    "            break\n",
    "    else: # else block will execute only if the for loop is not broken\n",
    "        print(num, end =' ')"
   ]
  },
  {
   "cell_type": "code",
   "execution_count": 26,
   "metadata": {},
   "outputs": [
    {
     "name": "stdout",
     "output_type": "stream",
     "text": [
      "not prime\n"
     ]
    }
   ],
   "source": [
    "num = 1231\n",
    "for i in range(1, 100):\n",
    "    if num % i ==0:\n",
    "        print('not prime')\n",
    "        break\n",
    "    else:\n",
    "        print('prime')"
   ]
  },
  {
   "cell_type": "code",
   "execution_count": 27,
   "metadata": {},
   "outputs": [
    {
     "name": "stdout",
     "output_type": "stream",
     "text": [
      "0\n",
      "1\n",
      "2\n",
      "3\n",
      "4\n",
      "done\n"
     ]
    }
   ],
   "source": [
    "for i in range(5):\n",
    "    print(i)\n",
    "else:\n",
    "    print('done')    "
   ]
  },
  {
   "cell_type": "code",
   "execution_count": 28,
   "metadata": {},
   "outputs": [
    {
     "name": "stdout",
     "output_type": "stream",
     "text": [
      "0\n",
      "1\n",
      "2\n"
     ]
    }
   ],
   "source": [
    "for i in range(5):\n",
    "    if i == 3:\n",
    "        break\n",
    "    print(i)\n",
    "else:\n",
    "    print('done')   "
   ]
  },
  {
   "cell_type": "markdown",
   "metadata": {},
   "source": [
    "while loop"
   ]
  },
  {
   "cell_type": "code",
   "execution_count": 29,
   "metadata": {},
   "outputs": [
    {
     "name": "stdout",
     "output_type": "stream",
     "text": [
      "10\n",
      "8\n",
      "6\n",
      "4\n",
      "2\n"
     ]
    }
   ],
   "source": [
    "x = 10\n",
    "while x > 0:\n",
    "    print(x)\n",
    "    x -= 2"
   ]
  },
  {
   "cell_type": "code",
   "execution_count": 30,
   "metadata": {},
   "outputs": [
    {
     "name": "stdout",
     "output_type": "stream",
     "text": [
      "8\n",
      "6\n",
      "4\n",
      "2\n",
      "0\n"
     ]
    }
   ],
   "source": [
    "x = 10\n",
    "while x > 0:\n",
    "   x -= 2\n",
    "   print(x)"
   ]
  },
  {
   "cell_type": "code",
   "execution_count": 33,
   "metadata": {},
   "outputs": [
    {
     "name": "stdout",
     "output_type": "stream",
     "text": [
      "Total is 57\n"
     ]
    }
   ],
   "source": [
    "total = 0\n",
    "while True:\n",
    "    num = int(input('enter a number: '))\n",
    "    if num == 0:\n",
    "        break\n",
    "    total += num\n",
    "print(f'Total is {total}')    "
   ]
  },
  {
   "cell_type": "code",
   "execution_count": 34,
   "metadata": {},
   "outputs": [
    {
     "name": "stdout",
     "output_type": "stream",
     "text": [
      "these are your bools\n",
      "['the faraway tree', 'one way', 'the subtle art of not giving a fuck', 'half girlfriend', 'who will cry when you die', 'macbeth']\n"
     ]
    }
   ],
   "source": [
    "books = []\n",
    "while True:\n",
    "    name = input(\"enter book name: \")\n",
    "    if name:\n",
    "        books.append(name)    # add item to your list\n",
    "    else:\n",
    "        break\n",
    "print(\"these are your bools\")\n",
    "print(books)"
   ]
  },
  {
   "cell_type": "code",
   "execution_count": null,
   "metadata": {},
   "outputs": [],
   "source": []
  }
 ],
 "metadata": {
  "kernelspec": {
   "display_name": "Python 3.9.12 ('base')",
   "language": "python",
   "name": "python3"
  },
  "language_info": {
   "codemirror_mode": {
    "name": "ipython",
    "version": 3
   },
   "file_extension": ".py",
   "mimetype": "text/x-python",
   "name": "python",
   "nbconvert_exporter": "python",
   "pygments_lexer": "ipython3",
   "version": "3.9.12"
  },
  "orig_nbformat": 4,
  "vscode": {
   "interpreter": {
    "hash": "17484fc68b5ab907287872b52951a701d041c282f8a0dc5551218318c5940baf"
   }
  }
 },
 "nbformat": 4,
 "nbformat_minor": 2
}
