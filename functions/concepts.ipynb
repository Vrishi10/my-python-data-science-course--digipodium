{
 "cells": [
  {
   "cell_type": "code",
   "execution_count": 1,
   "metadata": {},
   "outputs": [],
   "source": [
    "a = 10\n",
    "b = 3 "
   ]
  },
  {
   "cell_type": "markdown",
   "metadata": {},
   "source": [
    "coding rule\n",
    "D - Don't\n",
    "R - Repeat\n",
    "Y - Yourself"
   ]
  },
  {
   "cell_type": "markdown",
   "metadata": {},
   "source": [
    "# using functions"
   ]
  },
  {
   "cell_type": "code",
   "execution_count": 2,
   "metadata": {},
   "outputs": [],
   "source": [
    "# define a function\n",
    "def hello():\n",
    "    print('Hello World')"
   ]
  },
  {
   "cell_type": "code",
   "execution_count": 3,
   "metadata": {},
   "outputs": [
    {
     "data": {
      "text/plain": [
       "<function __main__.hello()>"
      ]
     },
     "execution_count": 3,
     "metadata": {},
     "output_type": "execute_result"
    }
   ],
   "source": [
    "# calling or using a function\n",
    "hello"
   ]
  },
  {
   "cell_type": "code",
   "execution_count": 5,
   "metadata": {},
   "outputs": [
    {
     "name": "stdout",
     "output_type": "stream",
     "text": [
      "Hello World\n"
     ]
    }
   ],
   "source": [
    "hello()              #can be called as many times as we want"
   ]
  },
  {
   "cell_type": "code",
   "execution_count": 7,
   "metadata": {},
   "outputs": [
    {
     "name": "stdout",
     "output_type": "stream",
     "text": [
      "Hello World\n",
      "Hello World\n",
      "Hello World\n",
      "Hello World\n"
     ]
    }
   ],
   "source": [
    "hello()\n",
    "hello()\n",
    "hello()\n",
    "hello()\n"
   ]
  },
  {
   "cell_type": "code",
   "execution_count": 9,
   "metadata": {},
   "outputs": [],
   "source": [
    "def si():\n",
    "    p = int(input('principal'))\n",
    "    r = int(input('rate'))\n",
    "    t = int(input('time'))\n",
    "    si = (p*r*t)/100\n",
    "    print('simple interest:',si)"
   ]
  },
  {
   "cell_type": "code",
   "execution_count": 10,
   "metadata": {},
   "outputs": [],
   "source": [
    "# wap to check prime number\n",
    "\n",
    "def is_prime():\n",
    "    no = int(input('enter a number:'))\n",
    "    if no > 1:\n",
    "        for i in range(2,no):\n",
    "            if no % 2 == 0:\n",
    "                print('prime no.')\n",
    "            else:\n",
    "                print('not prime no')"
   ]
  },
  {
   "cell_type": "code",
   "execution_count": 11,
   "metadata": {},
   "outputs": [
    {
     "name": "stdout",
     "output_type": "stream",
     "text": [
      "prime no.\n",
      "prime no.\n",
      "prime no.\n",
      "prime no.\n",
      "prime no.\n",
      "prime no.\n",
      "prime no.\n",
      "prime no.\n",
      "prime no.\n",
      "prime no.\n",
      "prime no.\n",
      "prime no.\n",
      "prime no.\n",
      "prime no.\n",
      "prime no.\n",
      "prime no.\n",
      "prime no.\n",
      "prime no.\n",
      "prime no.\n",
      "prime no.\n",
      "prime no.\n",
      "prime no.\n",
      "prime no.\n",
      "prime no.\n",
      "prime no.\n",
      "prime no.\n",
      "prime no.\n",
      "prime no.\n",
      "prime no.\n",
      "prime no.\n",
      "prime no.\n",
      "prime no.\n"
     ]
    }
   ],
   "source": [
    "is_prime()"
   ]
  },
  {
   "cell_type": "code",
   "execution_count": 17,
   "metadata": {},
   "outputs": [],
   "source": [
    "def isprimee():\n",
    "    num = int(input('enter a number:'))\n",
    "    if num>1:\n",
    "        for i in range(2,num):\n",
    "            if num % i == 0:\n",
    "                print(f'{num} % {i} == {num % i}')\n",
    "                print(num, 'is not a prime no')\n",
    "                break\n",
    "        else:\n",
    "            print(num,'is a prime no')"
   ]
  },
  {
   "cell_type": "code",
   "execution_count": 21,
   "metadata": {},
   "outputs": [
    {
     "name": "stdout",
     "output_type": "stream",
     "text": [
      "22 % 2 == 0\n",
      "22 is not a prime no\n"
     ]
    }
   ],
   "source": [
    "isprimee()"
   ]
  },
  {
   "cell_type": "code",
   "execution_count": null,
   "metadata": {},
   "outputs": [],
   "source": []
  }
 ],
 "metadata": {
  "kernelspec": {
   "display_name": "Python 3.9.12 ('base')",
   "language": "python",
   "name": "python3"
  },
  "language_info": {
   "codemirror_mode": {
    "name": "ipython",
    "version": 3
   },
   "file_extension": ".py",
   "mimetype": "text/x-python",
   "name": "python",
   "nbconvert_exporter": "python",
   "pygments_lexer": "ipython3",
   "version": "3.9.12"
  },
  "orig_nbformat": 4,
  "vscode": {
   "interpreter": {
    "hash": "17484fc68b5ab907287872b52951a701d041c282f8a0dc5551218318c5940baf"
   }
  }
 },
 "nbformat": 4,
 "nbformat_minor": 2
}
