{
 "cells": [
  {
   "cell_type": "markdown",
   "metadata": {},
   "source": [
    "strings in python"
   ]
  },
  {
   "cell_type": "code",
   "execution_count": 1,
   "metadata": {},
   "outputs": [
    {
     "name": "stdout",
     "output_type": "stream",
     "text": [
      "20\n"
     ]
    }
   ],
   "source": [
    "name = 'Vrishi Raj Kesarwani'\n",
    "print(len(name))"
   ]
  },
  {
   "cell_type": "code",
   "execution_count": 2,
   "metadata": {},
   "outputs": [
    {
     "name": "stdout",
     "output_type": "stream",
     "text": [
      "0 V\n",
      "1 r\n",
      "2 i\n",
      "3 s\n",
      "4 h\n",
      "5 i\n",
      "6  \n",
      "7 R\n",
      "8 a\n",
      "9 j\n",
      "10  \n",
      "11 K\n",
      "12 e\n",
      "13 s\n",
      "14 a\n",
      "15 r\n",
      "16 w\n",
      "17 a\n",
      "18 n\n",
      "19 i\n"
     ]
    }
   ],
   "source": [
    "for idx, char in enumerate(name):\n",
    "    print(idx,char)"
   ]
  },
  {
   "cell_type": "code",
   "execution_count": 3,
   "metadata": {},
   "outputs": [
    {
     "name": "stdout",
     "output_type": "stream",
     "text": [
      "Kesar\n"
     ]
    }
   ],
   "source": [
    "print(name[11:16])"
   ]
  },
  {
   "cell_type": "code",
   "execution_count": 5,
   "metadata": {},
   "outputs": [
    {
     "name": "stdout",
     "output_type": "stream",
     "text": [
      "rwan\n"
     ]
    }
   ],
   "source": [
    "print(name[-5:-1])"
   ]
  },
  {
   "cell_type": "code",
   "execution_count": 7,
   "metadata": {},
   "outputs": [
    {
     "name": "stdout",
     "output_type": "stream",
     "text": [
      "Vrishi\n"
     ]
    }
   ],
   "source": [
    "print(name[0:6])"
   ]
  },
  {
   "cell_type": "code",
   "execution_count": 8,
   "metadata": {},
   "outputs": [],
   "source": [
    "s = 'digipodium'\n",
    "slice1 = s[4:len(s)]"
   ]
  },
  {
   "cell_type": "code",
   "execution_count": 9,
   "metadata": {},
   "outputs": [
    {
     "name": "stdout",
     "output_type": "stream",
     "text": [
      "podium\n"
     ]
    }
   ],
   "source": [
    "print(slice1)"
   ]
  },
  {
   "cell_type": "code",
   "execution_count": 10,
   "metadata": {},
   "outputs": [
    {
     "name": "stdout",
     "output_type": "stream",
     "text": [
      "podium\n"
     ]
    }
   ],
   "source": [
    "slice2 = s[4:]\n",
    "print(slice2)"
   ]
  },
  {
   "cell_type": "markdown",
   "metadata": {},
   "source": [
    "slicing syntax:-\n",
    "       var[start:stop:step]"
   ]
  },
  {
   "cell_type": "code",
   "execution_count": 11,
   "metadata": {},
   "outputs": [
    {
     "name": "stdout",
     "output_type": "stream",
     "text": [
      "Vih a eawn\n"
     ]
    }
   ],
   "source": [
    "# all the even characters of the string\n",
    "print(name[::2])"
   ]
  },
  {
   "cell_type": "code",
   "execution_count": 13,
   "metadata": {},
   "outputs": [
    {
     "name": "stdout",
     "output_type": "stream",
     "text": [
      "rsiRjKsra\n"
     ]
    }
   ],
   "source": [
    "print(name[1:18:2])"
   ]
  },
  {
   "cell_type": "code",
   "execution_count": 14,
   "metadata": {},
   "outputs": [
    {
     "name": "stdout",
     "output_type": "stream",
     "text": [
      "inawraseK jaR ihsirV\n"
     ]
    }
   ],
   "source": [
    "#reverse the string\n",
    "print(name[::-1])"
   ]
  },
  {
   "cell_type": "code",
   "execution_count": 15,
   "metadata": {},
   "outputs": [
    {
     "name": "stdout",
     "output_type": "stream",
     "text": [
      "iarsKjRisr\n"
     ]
    }
   ],
   "source": [
    "print(name[::-2])"
   ]
  },
  {
   "cell_type": "code",
   "execution_count": 16,
   "metadata": {},
   "outputs": [
    {
     "name": "stdout",
     "output_type": "stream",
     "text": [
      "ishi Raj Kesarwa\n"
     ]
    }
   ],
   "source": [
    "print(name[2:18])"
   ]
  },
  {
   "cell_type": "code",
   "execution_count": 17,
   "metadata": {},
   "outputs": [
    {
     "data": {
      "text/plain": [
       "'\\x19'"
      ]
     },
     "execution_count": 17,
     "metadata": {},
     "output_type": "execute_result"
    }
   ],
   "source": [
    "# chr() - converts integer to string character\n",
    "chr(25)"
   ]
  },
  {
   "cell_type": "code",
   "execution_count": 18,
   "metadata": {},
   "outputs": [
    {
     "data": {
      "text/plain": [
       "'<'"
      ]
     },
     "execution_count": 18,
     "metadata": {},
     "output_type": "execute_result"
    }
   ],
   "source": [
    "chr(60)"
   ]
  },
  {
   "cell_type": "code",
   "execution_count": 19,
   "metadata": {},
   "outputs": [
    {
     "name": "stdout",
     "output_type": "stream",
     "text": [
      "୳\n"
     ]
    }
   ],
   "source": [
    "print(chr(2931))"
   ]
  },
  {
   "cell_type": "code",
   "execution_count": 23,
   "metadata": {},
   "outputs": [],
   "source": [
    "# ord() - converts a char to integer\n",
    "y = ord('a')"
   ]
  },
  {
   "cell_type": "code",
   "execution_count": 24,
   "metadata": {},
   "outputs": [
    {
     "name": "stdout",
     "output_type": "stream",
     "text": [
      "97\n"
     ]
    }
   ],
   "source": [
    "print(y)"
   ]
  },
  {
   "cell_type": "code",
   "execution_count": 25,
   "metadata": {},
   "outputs": [
    {
     "name": "stdout",
     "output_type": "stream",
     "text": [
      "97\n"
     ]
    }
   ],
   "source": [
    "x = ord('v')\n",
    "print(y)"
   ]
  },
  {
   "cell_type": "code",
   "execution_count": 26,
   "metadata": {},
   "outputs": [
    {
     "name": "stdout",
     "output_type": "stream",
     "text": [
      "applepen\n"
     ]
    }
   ],
   "source": [
    "a = 'apple'\n",
    "b = 'pen'\n",
    "ab = a + b\n",
    "print(ab)"
   ]
  },
  {
   "cell_type": "code",
   "execution_count": 27,
   "metadata": {},
   "outputs": [
    {
     "name": "stdout",
     "output_type": "stream",
     "text": [
      "VrishiRajKesarwani\n"
     ]
    }
   ],
   "source": [
    "w1 = 'Vrishi'\n",
    "w2 = 'Raj'\n",
    "w3 = 'Kesarwani'\n",
    "msg = w1 + w2 + w3\n",
    "print(msg)"
   ]
  },
  {
   "cell_type": "code",
   "execution_count": 29,
   "metadata": {},
   "outputs": [
    {
     "name": "stdout",
     "output_type": "stream",
     "text": [
      "vrishi tanushi shruti yash shrija utkarsh shraddha\n"
     ]
    }
   ],
   "source": [
    "# adding space bw words\n",
    "w1 = 'vrishi'\n",
    "w2 = 'tanushi'\n",
    "w3 = 'shruti'\n",
    "w4 = 'yash'\n",
    "w5 = 'shrija'\n",
    "w6 = 'utkarsh'\n",
    "w7 = 'shraddha'\n",
    "msg = w1 + ' ' + w2 + ' ' + w3 + ' ' + w4 + ' ' + w5 + ' ' + w6 + ' ' + w7\n",
    "print(msg) "
   ]
  },
  {
   "cell_type": "code",
   "execution_count": 30,
   "metadata": {},
   "outputs": [
    {
     "name": "stdout",
     "output_type": "stream",
     "text": [
      "hellohellohello\n"
     ]
    }
   ],
   "source": [
    "# duplication\n",
    "word = 'hello'\n",
    "print(word * 3)"
   ]
  },
  {
   "cell_type": "code",
   "execution_count": 34,
   "metadata": {},
   "outputs": [
    {
     "name": "stdout",
     "output_type": "stream",
     "text": [
      "---------------------------------------------------------------------------\n",
      "                      journey before destination                      \n",
      "-*--*--*--*--*--*--*--*--*--*--*--*--*--*--*--*--*--*--*--*--*--*--*--*--*-\n"
     ]
    }
   ],
   "source": [
    "print('---' * 25)\n",
    "print(\" journey before destination\".center(70))\n",
    "print('-*-' * 25)"
   ]
  },
  {
   "cell_type": "markdown",
   "metadata": {},
   "source": [
    "pattern printing"
   ]
  },
  {
   "cell_type": "code",
   "execution_count": 35,
   "metadata": {},
   "outputs": [
    {
     "name": "stdout",
     "output_type": "stream",
     "text": [
      " * \n",
      " *  * \n",
      " *  *  * \n",
      " *  *  *  * \n",
      " *  *  *  *  * \n"
     ]
    }
   ],
   "source": [
    "for i in range(1,6):\n",
    "    print(i * ' * ')"
   ]
  },
  {
   "cell_type": "code",
   "execution_count": 37,
   "metadata": {},
   "outputs": [
    {
     "name": "stdout",
     "output_type": "stream",
     "text": [
      " *  *  *  *  *  * \n",
      " *  *  *  *  * \n",
      " *  *  *  * \n",
      " *  *  * \n",
      " *  * \n"
     ]
    }
   ],
   "source": [
    "for i in range(6,1,-1):\n",
    "    print(i * ' * ')"
   ]
  },
  {
   "cell_type": "code",
   "execution_count": 39,
   "metadata": {},
   "outputs": [
    {
     "name": "stdout",
     "output_type": "stream",
     "text": [
      "                      *                      \n",
      "                   *  *  *                   \n",
      "                *  *  *  *  *                \n",
      "             *  *  *  *  *  *  *             \n",
      "          *  *  *  *  *  *  *  *  *          \n",
      "       *  *  *  *  *  *  *  *  *  *  *       \n",
      "    *  *  *  *  *  *  *  *  *  *  *  *  *    \n"
     ]
    }
   ],
   "source": [
    "for i in range(1,15,2):\n",
    "    print((i * ' * ').center(45))"
   ]
  },
  {
   "cell_type": "code",
   "execution_count": 43,
   "metadata": {},
   "outputs": [
    {
     "name": "stdout",
     "output_type": "stream",
     "text": [
      "                               vrk                               \n",
      "                          vrk  vrk  vrk                          \n",
      "                     vrk  vrk  vrk  vrk  vrk                     \n",
      "                vrk  vrk  vrk  vrk  vrk  vrk  vrk                \n",
      "           vrk  vrk  vrk  vrk  vrk  vrk  vrk  vrk  vrk           \n",
      "      vrk  vrk  vrk  vrk  vrk  vrk  vrk  vrk  vrk  vrk  vrk      \n",
      " vrk  vrk  vrk  vrk  vrk  vrk  vrk  vrk  vrk  vrk  vrk  vrk  vrk \n"
     ]
    }
   ],
   "source": [
    "for i in range(1,15,2):\n",
    "    print((i * ' vrk ').center(65))"
   ]
  },
  {
   "cell_type": "code",
   "execution_count": 45,
   "metadata": {},
   "outputs": [
    {
     "name": "stdout",
     "output_type": "stream",
     "text": [
      "_____________________ * _____________________\n",
      "__________________ *  *  * __________________\n",
      "_______________ *  *  *  *  * _______________\n",
      "____________ *  *  *  *  *  *  * ____________\n",
      "_________ *  *  *  *  *  *  *  *  * _________\n",
      "______ *  *  *  *  *  *  *  *  *  *  * ______\n",
      "___ *  *  *  *  *  *  *  *  *  *  *  *  * ___\n"
     ]
    }
   ],
   "source": [
    "for i in range(1,15,2):\n",
    "    print((i * ' * ').center(45, '_'))"
   ]
  },
  {
   "cell_type": "code",
   "execution_count": 46,
   "metadata": {},
   "outputs": [
    {
     "name": "stdout",
     "output_type": "stream",
     "text": [
      "000000000000000000000 * 000000000000000000000\n",
      "000000000000000000 *  *  * 000000000000000000\n",
      "000000000000000 *  *  *  *  * 000000000000000\n",
      "000000000000 *  *  *  *  *  *  * 000000000000\n",
      "000000000 *  *  *  *  *  *  *  *  * 000000000\n",
      "000000 *  *  *  *  *  *  *  *  *  *  * 000000\n",
      "000 *  *  *  *  *  *  *  *  *  *  *  *  * 000\n"
     ]
    }
   ],
   "source": [
    "for i in range(1,15,2):\n",
    "    print((i * ' * ').center(45, '0'))"
   ]
  },
  {
   "cell_type": "code",
   "execution_count": 52,
   "metadata": {},
   "outputs": [
    {
     "name": "stdout",
     "output_type": "stream",
     "text": [
      "000000000000000000000000000000000000000000000\n",
      "*********************************************\n",
      "000000000000000000000000000000000000000000000\n",
      "*********************************************\n",
      "000000000000000000000000000000000000000000000\n",
      "*********************************************\n",
      "000000000000000000000000000000000000000000000\n",
      "*********************************************\n"
     ]
    }
   ],
   "source": [
    "for i in range(1,18,5):\n",
    "        print((i * '0').center(45, '0'))\n",
    "        print((i * '*').center(45, '*'))    "
   ]
  },
  {
   "cell_type": "code",
   "execution_count": null,
   "metadata": {},
   "outputs": [],
   "source": []
  }
 ],
 "metadata": {
  "kernelspec": {
   "display_name": "Python 3.9.12 ('base')",
   "language": "python",
   "name": "python3"
  },
  "language_info": {
   "codemirror_mode": {
    "name": "ipython",
    "version": 3
   },
   "file_extension": ".py",
   "mimetype": "text/x-python",
   "name": "python",
   "nbconvert_exporter": "python",
   "pygments_lexer": "ipython3",
   "version": "3.9.12"
  },
  "orig_nbformat": 4,
  "vscode": {
   "interpreter": {
    "hash": "17484fc68b5ab907287872b52951a701d041c282f8a0dc5551218318c5940baf"
   }
  }
 },
 "nbformat": 4,
 "nbformat_minor": 2
}
