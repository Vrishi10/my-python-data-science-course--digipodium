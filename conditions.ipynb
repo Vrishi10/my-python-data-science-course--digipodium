{
 "cells": [
  {
   "cell_type": "markdown",
   "metadata": {},
   "source": [
    "# conditions\n",
    "# 1. if\n",
    "# 2. if else\n",
    "# 3. if elif else\n",
    "# 4. nested if\n",
    "# 5. match case (on;y works on python 3.10 or above)"
   ]
  },
  {
   "cell_type": "markdown",
   "metadata": {},
   "source": [
    "syntax\n",
    " if condition :\n",
    "  statement"
   ]
  },
  {
   "cell_type": "code",
   "execution_count": 1,
   "metadata": {},
   "outputs": [
    {
     "name": "stdout",
     "output_type": "stream",
     "text": [
      "100 is greater than 10\n"
     ]
    }
   ],
   "source": [
    "if 100 > 10:\n",
    "    print('100 is greater than 10')"
   ]
  },
  {
   "cell_type": "code",
   "execution_count": 2,
   "metadata": {},
   "outputs": [],
   "source": [
    "if 5 > 10:\n",
    "    print('5 is greater than 10')"
   ]
  },
  {
   "cell_type": "code",
   "execution_count": 3,
   "metadata": {},
   "outputs": [],
   "source": [
    "a = 10\n",
    "b = 20\n",
    "if a > b:\n",
    "    print('this is greater')\n",
    "    print(f'{a} is greater than {b}')"
   ]
  },
  {
   "cell_type": "code",
   "execution_count": 4,
   "metadata": {},
   "outputs": [
    {
     "name": "stdout",
     "output_type": "stream",
     "text": [
      "this is greater\n",
      "10 is greater than 20\n"
     ]
    }
   ],
   "source": [
    "a = 10\n",
    "b = 20\n",
    "if a < b:\n",
    "    print('this is greater')\n",
    "    print(f'{a} is greater than {b}')"
   ]
  },
  {
   "cell_type": "code",
   "execution_count": 6,
   "metadata": {},
   "outputs": [
    {
     "name": "stdout",
     "output_type": "stream",
     "text": [
      "{a} is greater than {b}\n"
     ]
    }
   ],
   "source": [
    "print('{a} is greater than {b}')"
   ]
  },
  {
   "cell_type": "code",
   "execution_count": 8,
   "metadata": {},
   "outputs": [],
   "source": [
    "data = input(\"enter a data:\")\n",
    "if data.isalpha():\n",
    "    print(\"this ia a string\")\n",
    "if data.isnumeric():\n",
    "    print(\"this is a number\")   \n",
    "if data.isspace():\n",
    "    print(\"this is a space\") \n"
   ]
  },
  {
   "cell_type": "code",
   "execution_count": 10,
   "metadata": {},
   "outputs": [
    {
     "name": "stdout",
     "output_type": "stream",
     "text": [
      "this is a string\n"
     ]
    }
   ],
   "source": [
    "data = input(\"enter a data:\")\n",
    "if data.isalpha():\n",
    "    print(\"this is a string\")\n",
    "if data.isnumeric():\n",
    "    print(\"this is a number\")\n",
    "if data.isspace():\n",
    "    print(\"this is a space\")"
   ]
  },
  {
   "cell_type": "markdown",
   "metadata": {},
   "source": [
    "syntax if else condition : statement else: statement"
   ]
  },
  {
   "cell_type": "code",
   "execution_count": 12,
   "metadata": {},
   "outputs": [
    {
     "name": "stdout",
     "output_type": "stream",
     "text": [
      "it is cool\n"
     ]
    }
   ],
   "source": [
    "temp = 10\n",
    "if temp > 25:\n",
    "    print (\"it is hot\")\n",
    "else:\n",
    "    print(\"it is cool\")"
   ]
  },
  {
   "cell_type": "code",
   "execution_count": 14,
   "metadata": {},
   "outputs": [
    {
     "name": "stdout",
     "output_type": "stream",
     "text": [
      "mango is the king of fruits\n"
     ]
    }
   ],
   "source": [
    "fruit = input(\"what do you like?\")\n",
    "if fruit == 'apple':\n",
    "    print('an apple a day keep the doctor away')\n",
    "elif fruit == 'mango':\n",
    "    print('mango is the king of fruits')\n",
    "elif fruit == 'banana':\n",
    "    print('banana is a good source of potassium')\n",
    "elif fruit == 'orange':\n",
    "    print('orange is a good source of vitamin c')\n",
    "else:\n",
    "    print('fruit not found in the database')"
   ]
  },
  {
   "cell_type": "markdown",
   "metadata": {},
   "source": [
    "nested if"
   ]
  },
  {
   "cell_type": "code",
   "execution_count": 16,
   "metadata": {},
   "outputs": [
    {
     "name": "stdout",
     "output_type": "stream",
     "text": [
      "wrong username\n"
     ]
    }
   ],
   "source": [
    "username = input (\"enter your username:\")\n",
    "password = input (\"enter your password:\")\n",
    "if username == 'sam':\n",
    "    if password == '123':\n",
    "        print(\"welcome sam\")\n",
    "    else:\n",
    "        print('wrong username or password')\n",
    "else:\n",
    "    print(\"wrong username\")"
   ]
  },
  {
   "cell_type": "code",
   "execution_count": 17,
   "metadata": {},
   "outputs": [
    {
     "name": "stdout",
     "output_type": "stream",
     "text": [
      "wrong username or password\n"
     ]
    }
   ],
   "source": [
    "if username == 'sam' and password == '123':\n",
    "    print('welcome sam')\n",
    "else:\n",
    "    print('wrong username or password')"
   ]
  },
  {
   "cell_type": "markdown",
   "metadata": {},
   "source": [
    "WAP to calculate the employee's total salary based on the following conditions\n",
    "   1. if basic salary is less than 10000 then hra is 10% of basic salary & da is 90% of basic salary\n",
    "   2. if basic salary is greater than 10000 then hra is 20% of basic salary & da is 80% of basic salary\n",
    "   3. if basic salary is less than 20000 then hra is 25% of basic salary & da is 75% of basic salary"
   ]
  },
  {
   "cell_type": "code",
   "execution_count": 1,
   "metadata": {},
   "outputs": [
    {
     "name": "stdout",
     "output_type": "stream",
     "text": [
      "6250.0 is your hra\n",
      "18750.0 is your da\n",
      "total salary base: 50000.0\n"
     ]
    }
   ],
   "source": [
    "basic_salary = float(input(\"Enter the salary:\"))\n",
    "if basic_salary < 10000:\n",
    "    hra = 0.1*basic_salary\n",
    "    da = 0.9*basic_salary\n",
    "elif basic_salary > 10000 and basic_salary < 20000:\n",
    "    hra = 0.2*basic_salary\n",
    "    da = 0.8*basic_salary\n",
    "elif basic_salary > 20000:\n",
    "    hra = 0.25*basic_salary\n",
    "    da = 0.75*basic_salary\n",
    "total_salary = hra + da + basic_salary\n",
    "print(f\"{hra} is your hra\")\n",
    "print(f\"{da} is your da\")\n",
    "print(\"total salary base:\", total_salary) \n",
    "    "
   ]
  },
  {
   "cell_type": "code",
   "execution_count": null,
   "metadata": {},
   "outputs": [],
   "source": []
  }
 ],
 "metadata": {
  "kernelspec": {
   "display_name": "Python 3.9.12 ('base')",
   "language": "python",
   "name": "python3"
  },
  "language_info": {
   "codemirror_mode": {
    "name": "ipython",
    "version": 3
   },
   "file_extension": ".py",
   "mimetype": "text/x-python",
   "name": "python",
   "nbconvert_exporter": "python",
   "pygments_lexer": "ipython3",
   "version": "3.9.12"
  },
  "orig_nbformat": 4,
  "vscode": {
   "interpreter": {
    "hash": "17484fc68b5ab907287872b52951a701d041c282f8a0dc5551218318c5940baf"
   }
  }
 },
 "nbformat": 4,
 "nbformat_minor": 2
}
